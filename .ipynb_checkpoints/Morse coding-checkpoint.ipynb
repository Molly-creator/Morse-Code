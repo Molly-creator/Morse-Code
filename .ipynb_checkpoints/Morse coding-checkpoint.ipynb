{
 "cells": [
  {
   "cell_type": "markdown",
   "id": "f5ba48b0",
   "metadata": {},
   "source": [
    " <div class=\"alert alert-success\" markdown=\"1\">\n",
    "\n",
    "# Community Challenge\n",
    "Levensreddende Communicatie\n",
    "\n",
    "De vakantie op een rustig visserseiland wordt heftig verstoort met een stroomstoring! Dit laad ons niet alleen in het donker maar ook zonder enige middel om met het vaste lang te communiceren. Een lastig parket, zeker omdat de levens direct in gevaar kunnen komen als er niet snel hulp komt.\n",
    "\n",
    "In dit Jupyter Notebook gaan we onze mede eiland-verblijvers helpen om contact te leggen met de buitenwereld.\n",
    "De opbouw ziet er als volgt uit:\n",
    "1. [Ophalen noodoproep](#ophalen-noodoproep)\n",
    "2. [Omzetten noodbericht naar morsecode](#Omzetten-noodbericht-naar-morsecode)\n",
    "3. [Morsecode naar tekst herstellen](#Morsecode-naar-tekst)\n",
    "4. [Uitgebreid woordenboek maken](#Uitgebreid-woordenboek)\n",
    "5. [Conclusie](#conclusie)\n",
    "\n",
    "\n",
    "<a id=\"ophalen-noodoproep\"></a>\n",
    "## 1. Ophalen noodoproep\n",
    "### ★ Noodoproep ontvangen\n",
    "\n",
    "Er is een noodbericht gestuurd dat we met ```request``` ophalen en omzetten naar een string."
   ]
  },
  {
   "cell_type": "markdown",
   "id": "cee5fc5f",
   "metadata": {},
   "source": [
    "<div class=\"alert alert-info\" markdown=\"1\">\n",
    "\n",
    "### Levensreddende Communicatie ★\n",
    "Lees het bestand \"noodoproep.txt\" in en print deze naar de terminal. (Tonen op een website mag natuurlijk ook!)"
   ]
  },
  {
   "cell_type": "code",
   "execution_count": null,
   "id": "e09015b9",
   "metadata": {},
   "outputs": [],
   "source": [
    "import requests\n",
    "\n",
    "txtURL = \"https://community-challenge.netlify.app/data/nood-oproep.txt\"\n",
    "\n",
    "r = requests.get(txtURL)\n",
    "SOStxt = r.content.decode()\n",
    "\n",
    "print(SOStxt)"
   ]
  },
  {
   "cell_type": "markdown",
   "id": "4f19b1d3",
   "metadata": {},
   "source": [
    "<div class=\"alert alert-info\" markdown=\"1\">\n",
    "\n",
    "### Levensreddende Communicatie ★★\n",
    "Gegeven een morse-woordenboek. Vertaal de tekst van de eilandraad en schrijf het uit naar output.mc. Let op: Een W ('.--') kan gezien worden als AT('.-' en '-') als je morse-code aan elkaar rijgt. Zorg dat er misverstanden kunnen plaatsvinden in de communicate."
   ]
  },
  {
   "cell_type": "markdown",
   "id": "5efa2258",
   "metadata": {},
   "source": [
    " <div class=\"alert alert-success\" markdown=\"1\">\n",
    " <a id=\"Omzetten-noodbericht-naar-morsecode\"></a>\n",
    "\n",
    "## 2. Omzetten noodbericht naar morsecode\n",
    "### ★★ MORSE code woordenboek\n",
    "\n",
    "Een mede eiland-verblijver heeft in haar tas een SAS-boek gevonden met daarin een lijst van morsecodes. Deze kunnen handig gebruiken om ons noodbericht om te zetten. De morsetekens bestaan uitsluitend uit punten . en streeppje -, een woord zouden we niet zomaar kunnen maken hierin, zeker niet in het donker. \n",
    "Gelukkig kunnen we dit een computer voor ons laten doen, maar daarvoor moeten we eerst de letters en tekens in een datastructuur zetten.\n",
    "\n",
    "#### plan: \n",
    "Ophalen van overzicht karakters met bijhorende morseteken.\n",
    "Met gebruik van ```regex``` de letters en tekens (-.) selecteren. We kunen dit direct in een ```dict``` zetten waarbij de letter de __key__ en de morseteken de __value__ is. De lijst bevat 26 letters, 10 cijfers en 9 leestekens dat betekend dat in ons gemaakte dictionary in totaal uitkomen op 45 keys.\n",
    "\n",
    "#### resultaat:\n",
    "Hieronder is woordenboek van letters en morsetekens, vervolgens kunnen we de noodpoproep per letter vertalen om zo een morsecode te maken dat we kunnen signaleren naar andere toe."
   ]
  },
  {
   "cell_type": "code",
   "execution_count": null,
   "id": "36d661b0",
   "metadata": {},
   "outputs": [],
   "source": [
    "import re\n",
    "\n",
    "morseURL = \"https://math.hws.edu/eck/cs225/s03/code.txt\"\n",
    "\n",
    "r = requests.get(morseURL)\n",
    "Morse = r.content.decode()\n",
    "\n",
    "Morsedict = dict(re.findall(r'(.){1}\\s([.-]+)', Morse,re.MULTILINE))\n",
    "print(Morsedict)\n",
    "print()\n",
    "print(\"De lengte van dit woordenboek is\", len(Morsedict), \"karakters.\")"
   ]
  },
  {
   "cell_type": "markdown",
   "id": "677696db",
   "metadata": {},
   "source": [
    " <div class=\"alert alert-success\" markdown=\"1\">\n",
    " \n",
    "### Noodoproep omzetten naar morsecode\n",
    "Nu we de lijst succesvol omgezet hebben naar het woordenboek wordt onze missie een stuk gemakkelijker en je ziet de ontspanning bij de mensen om je heen verschijnen op hun gezicht. We zijn nu klaar om contact te gaan maken met het vaste land.\n",
    "\n",
    "#### plan: \n",
    "Door te lussen door de woorden en daarna de individuele karakters kunnen deze worden ingewisseld met de morsetekens. Om verwarring te voorkomen scheiden we de tekens met een ```\\```.\n",
    "#### resultaat: \n",
    "Vervolgens maken we een bestand genaamd:```output.mc``` aan waarin de noodopdroep staat in morsecode. Hieronder is het bericht, dat ook in bovenstaand bestand staat, in morscode geprint."
   ]
  },
  {
   "cell_type": "code",
   "execution_count": null,
   "id": "795986ef",
   "metadata": {},
   "outputs": [],
   "source": [
    "result = []\n",
    "for row in SOStxt:\n",
    "    for char in row:\n",
    "        for key, value in Morsedict.items():\n",
    "            if char == key:\n",
    "                result.append(value)\n",
    "     \n",
    "                \n",
    "with open('./output.mc', 'w') as file:\n",
    "    for row in result:\n",
    "        file.write(row + '/')\n",
    "result"
   ]
  },
  {
   "cell_type": "markdown",
   "id": "6793f9e8",
   "metadata": {},
   "source": [
    " <div class=\"alert alert-success\" markdown=\"1\">\n",
    " \n",
    "### Audio-fragment morse noodoproep\n",
    "\n",
    "Naast de vuurtoren blijkt er op het eiland ook een radiostation te zijn met een noodradio. Helaas kan hier geen microfoon op worden aangesloten. Gelukkig kunnen we spullen op het eiland wel een morse seinsleutel bouwen!\n",
    "\n",
    "Als je het codeblok hieronder uitvoerd hoor je de morse-code van het noodbericht!\n",
    "\n",
    "__Dit is optioneel en kan overgeslagen worden__"
   ]
  },
  {
   "cell_type": "code",
   "execution_count": null,
   "id": "45e3f250",
   "metadata": {},
   "outputs": [],
   "source": [
    "import pygame\n",
    "import time\n",
    "import sys\n",
    "\n",
    "# Pauze tussen letters en woorden (ter onderscheid)\n",
    "interpause = 0.5  \n",
    "\n",
    "pygame.init()\n",
    "try:\n",
    "    for char in SOStxt:\n",
    "        if char == '/n' or char == ' ':\n",
    "            time.sleep(7 * interpause)\n",
    "        else:\n",
    "            print(char)\n",
    "            pygame.mixer.music.load( \"./morse_code_audio/\" + char + '_morse_code.ogg')\n",
    "            pygame.mixer.music.set_volume(0.1)\n",
    "            pygame.mixer.music.play()\n",
    "            time.sleep(3 * interpause)\n",
    "except:\n",
    "    print(\"Could not send morse code\")\n",
    "    "
   ]
  },
  {
   "cell_type": "markdown",
   "id": "859a63f9",
   "metadata": {},
   "source": [
    " <div class=\"alert alert-info\" markdown=\"1\">\n",
    "\n",
    "### Levensreddende Communicatie ★★★\n",
    "Het vaste land weet het vanwege de dichte mist het signaal niet goed op te vangen. Gelukkig is er nog wel een boot binnen in de reikwijdte van vuurtoren. De schipper ziet de lichtflitsen wel, maar is niet thuis in morsecode. Zorg ervoor dat je programma output.mc ook weer kan vertalen naar schipper.txt. Dan kan de schipper de noodoproep interpreteren en hulp sturen."
   ]
  },
  {
   "cell_type": "markdown",
   "id": "291c2665",
   "metadata": {},
   "source": [
    " <div class=\"alert alert-success\" markdown=\"1\">\n",
    "  <a id=\"Morsecode-naar-tekst\"></a>\n",
    "\n",
    "## 3. Morsecode naar tekst herstellen\n",
    "### ★★★ CONTACT LEGGEN MET SCHIP\n",
    "\n",
    "\n",
    "Door de dichte mist lijkt het vastenland het signaal niet (goed) te ontvangen. Ondertussen is er wel een boot in de buurt van de vuurtoren ontdekt. De schipper is helaas niet thuis in morsecode, gelukkig kunnen we de morsecode ook weer terug vertalen naar normale tekst om naar hen te sturen in de hoop dat ze ons kunnen redden!\n",
    "\n",
    "#### plan: \n",
    "We beginnen door het bestand ```output.mc``` uit te lezen. Daarna lussen we hierdoor heen en zetten met gebruik van het woordeboek alle morsetekens(values) om naar de letters (keys). \n",
    "Aangezien morsetekens per karakter zijn ziet het bericht er nu vreemd uit, alle tekens staan onder elkaar!\n",
    "Om de leesbaarheid terug brengen in het bericht moeten we alle losse karakters die nu op iedere lijn staan terug aan elkaar plakken. Vervolgens schrijven we het bericht naar schipper.txt\n",
    "\n",
    "#### resultaat: \n",
    "schipper.txt is zoals oorspronkelijke noodbericht hersteld"
   ]
  },
  {
   "cell_type": "code",
   "execution_count": null,
   "id": "7b6b969a",
   "metadata": {},
   "outputs": [],
   "source": [
    "with open('./output.mc','r') as f:\n",
    "        output = f.read()\n",
    "\n",
    "schippers = []\n",
    "for row in output.split(\"/\"):\n",
    "    for key, value in Morsedict.items():\n",
    "            if row == value:\n",
    "                schippers.append(key)\n",
    "\n",
    "string = \"\"\n",
    "\n",
    "schipperTXT = string.join(schippers)\n",
    "with open('./schipper.txt','w') as f:\n",
    "        f.write(schipperTXT)\n"
   ]
  },
  {
   "cell_type": "markdown",
   "id": "205d5ef9",
   "metadata": {},
   "source": [
    " <div class=\"alert alert-success\" markdown=\"1\">\n",
    " \n",
    " Ter illustratie, hieronder de tekst voor de bewerking en die van erna."
   ]
  },
  {
   "cell_type": "code",
   "execution_count": null,
   "id": "06de0e7e",
   "metadata": {},
   "outputs": [],
   "source": [
    "print(\"Bericht VOOR aanpassing mbt leesbaarheid:\\n\", schippers)\n",
    "print('\\n')\n",
    "print(\"Bericht NA aanpassing mbt leesbaarheid:\\n\", schipperTXT)"
   ]
  },
  {
   "cell_type": "markdown",
   "id": "26503155",
   "metadata": {},
   "source": [
    " <div class=\"alert alert-info\" markdown=\"1\">\n",
    "\n",
    "### Levensreddende Communicatie ★★★★\n",
    "Het morse-woordenboek heeft zo zijn beperkingen. Er is bijvoorbeeld geen verschil gemaakt tussen hoofd- en kleine letters en er staan veel speciale karakters zoals ü ,é en ! niet in.\n",
    "\n",
    "Als een tekst nu onbekende karakters bevat dan gebeurt er nu nog niks. Maak je programma zo dat hij mogelijk nog onbekende karakters ondersteunt en toevoegt aan zijn eigen woordenboek. Dit woordenboek schrijf je aan het einde uit naar woordenboek_extended.txt. Vertaal versleutelde-nood-oproep.txt."
   ]
  },
  {
   "cell_type": "markdown",
   "id": "c308eb59",
   "metadata": {},
   "source": [
    " <div class=\"alert alert-success\" markdown=\"1\">\n",
    "   <a id=\"Uitgebreid-woordenboek\"></a>\n",
    "\n",
    "## 4. Uitgebreid woordenboek maken\n",
    "### ★★★★ Uitbreiding morse code woordenboek\n",
    "\n",
    "Nu er meerdere pogingen tot communicatie zijn gedaan willen steeds meer mensen een boodschap sturen. We zijn immers gewend geraakt al onze noden, ideeen, wensen per direct te kunnen sturen en met de stroomstoring blijkt de behoefte tot communicatie niet minder te zijn geworden. De noodoproep is zodaning veranderd dat het een tweede bericht is geworden. Er zitten nu karakters bij die het woordenboek nog niet kent. Dit zullen we dus moeten aanpassen.\n",
    "\n",
    "#### plan: \n",
    "Ophalen lange bericht.\n",
    "\n",
    "#### resultaat: \n"
   ]
  },
  {
   "cell_type": "code",
   "execution_count": null,
   "id": "78fdd266",
   "metadata": {},
   "outputs": [],
   "source": [
    "LongtxtURL = \"https://community-challenge.netlify.app/data/extended-nood-oproep.txt\"\n",
    "\n",
    "r = requests.get(LongtxtURL)\n",
    "LongSOStxt = r.content.decode()\n",
    "\n",
    "print(LongSOStxt)"
   ]
  },
  {
   "cell_type": "markdown",
   "id": "b6b15754",
   "metadata": {},
   "source": [
    " <div class=\"alert alert-success\" markdown=\"1\">\n",
    "\n",
    "### Welke letters zijn nu al ondersteund in mav spaties\n",
    "\n",
    "Het nieuwe bericht doet de spanning onder de mensen weer oplaaien, want wat te doen met al deze letters die niet in ons woordenboek staan? Een snelle invetarisatie laat zien dat er maar liefst __26__ nieuwe karakters staan in deze noodoproep.\n",
    "\n",
    "Plots horen we een schrapende stem vertellen \"Ik heb wel een oplossing, of liever gezegd twee mogelijke oplossingen\", het was een zachte onzekere stem. De groep viel meteen stil om te luisteren naar de opties. De eerste optie is om de kleine letters een voovoegsel (in morse) te geven met vervolgens de teken zoals gebruikelijk bij de corresponderende hoofdletter. Dit maakt ze meer uniform en dus herleidbaar naar de hoofdletter dat al in het woordenboek voorkomt. De tweede optie is om een nieuwe niet bestaande, ```random```, morseteken morsecode te maken dat bestaat uit - en . tekens. De groep vindt beide opties goed en er wordt besloten om de eerste optie te gebruiken bij de kleine letters en de overige speciale karakters een gegenereerd teken te gebruiken. \n",
    "\n",
    "#### plan:\n",
    "Inventariseren hoeveel karakters vreemd zijn voor het woordenboek. \n",
    "Vervolgens zijn er\n",
    "\n",
    "#### resultaat\n",
    "Een nieuw woordenboek dat nieuwe karakters accepteerd en toevoegd met een voorvoegsel of een gegenereede morsecode."
   ]
  },
  {
   "cell_type": "code",
   "execution_count": null,
   "id": "3823410a",
   "metadata": {},
   "outputs": [],
   "source": [
    "Unknown = []\n",
    "Known = []\n",
    "for char in LongSOStxt:\n",
    "    if char not in Morsedict:\n",
    "        Unknown.append(char)\n",
    "    else:\n",
    "        Known.append(char)\n",
    "        \n",
    "Unknown = set(Unknown)\n",
    "Known = set(Known)\n",
    "\n",
    "print(\"TER VOORBEREIDING\\n\")\n",
    "print(\"Aantal al bekende karakters,\", len(Known))\n",
    "print(\"Aantal niet voorkomende karakters,\", len(Unknown))\n",
    "print(\"\\nVinden van een morsecombinatie dat niet al bestaat, \\nen zo lang mogelijk is om verwarring met andere tekens te voorkomen.\\n\")\n",
    "print(\"Bestaat de combinatie '-------' in het woordenboek:\",\"-------\" in Morsedict.values())"
   ]
  },
  {
   "cell_type": "markdown",
   "id": "969b41eb",
   "metadata": {},
   "source": [
    " <div class=\"alert alert-success\" markdown=\"1\">\n",
    "\n",
    "### Toevoegen ondersteuning karakters 1\n",
    "\n",
    "Code hieronder kijkt of het een kleine letter is door dit te kijken of deze staat in een lijst met kleine letters.\n",
    "Doordat sommige letters, denk aan de letter 'n' of 'e', vaker worden gebruikt in het bericht kan het niet in een keer in het nieuwe woordenboek worden opgeslagen. Hiervoor gebruiken we een tussenstap. Dit is een lijst waarin de letters en nieuwe morsecoden samen worden opgeslagen. Vervolgens worden hierdoor gelust en in het nieuwe woordenboek genaamd```ExtMorse``` toegevoegd."
   ]
  },
  {
   "cell_type": "code",
   "execution_count": null,
   "id": "d3d05566",
   "metadata": {},
   "outputs": [],
   "source": [
    "ExtMorse = Morsedict\n",
    "\n",
    "lowercase = [\"a\",\"b\",\"c\",\"d\",\"e\",\"f\",\"g\",\"h\",\"i\",\"j\",\"k\",\"l\",\"m\",\"n\",\"o\",\"p\",\"q\",\"r\",\"s\",\"t\",\"u\",\"v\",\"w\",\"x\",\"y\",\"z\"]\n",
    "listchar = []\n",
    "for char in LongSOStxt:\n",
    "    if char not in ExtMorse and char in lowercase:\n",
    "        charUP = char.upper()\n",
    "        for key, value in Morsedict.items():\n",
    "            if charUP == key:\n",
    "                charMorse = \"-------\" + value\n",
    "                listchar.append([char, charMorse])\n",
    "                \n",
    "for row in listchar:\n",
    "    ExtMorse[row[0]] = row[1]"
   ]
  },
  {
   "cell_type": "markdown",
   "id": "e699e395",
   "metadata": {},
   "source": [
    " <div class=\"alert alert-success\" markdown=\"1\">\n",
    "\n",
    "### Toevoegen ondersteuning karakters 2\n",
    "\n",
    "Daarnaast waren er ook nog speciale tekens die een random morsecode krijgen toegewezen. Dit gebeurt in de code hieronder. Hiervoor wordt de module ```random``` en ```StringGenerator```. De string wordt dus random gegenereerd vanuit waardes die je meegeeft. Dit is gebaseerd op regex en daarmee ideaal om alleen een combinatie van . en - te kunnen garanderen.\n",
    "\n",
    "### Woordenboek als bestand\n",
    "\n",
    "We willen natuurlijk niet dat onze moeite verloren gaat en schrijven daarom het woordenboek naar een tekst bestand toe genaamd ```'woordenboek_extended.txt'```. Omdat de datastructuur het niet toelaat dit in een keer te doen (dictionary is geen string). Zetten we eerst alle regels om tot een string en een nieuwe regel. Zo is het een overzichtelijk los woordenboek geworden dat gebruikt kan worden door iedereen."
   ]
  },
  {
   "cell_type": "code",
   "execution_count": null,
   "id": "7d9d144a",
   "metadata": {},
   "outputs": [],
   "source": [
    "from strgen import StringGenerator\n",
    "import random\n",
    "\n",
    "for char in LongSOStxt:\n",
    "    if char not in ExtMorse:\n",
    "        randChar = StringGenerator(\"[\\.\\-]{6}\").render()\n",
    "        while randChar not in ExtMorse.values():\n",
    "            ExtMorse[char] = randChar\n",
    "            \n",
    "with open('./woordenboek_extended.txt', 'w') as f:\n",
    "    for row in ExtMorse.items():\n",
    "        Row = f\"{row[0]} {row[1]}\"\n",
    "        f.write(Row + '\\n')\n",
    "\n",
    "print(\"Uiteindelijk ziet het uitgebreidde woordenboek er als volgt uit:\")\n",
    "\n",
    "ExtMorse"
   ]
  },
  {
   "cell_type": "markdown",
   "id": "eebaca63",
   "metadata": {},
   "source": [
    " <div class=\"alert alert-success\" markdown=\"1\">\n",
    "\n",
    "### Noodoproep-2 naar morse vertalen\n",
    "\n",
    "De groep staat te joelen en te juichen, dit is het moment waar alles naartoe heeft geleid! De noodoproep door gebruikt te maken van het uitgebreidde woordenboek verstuurd worden naar de buitenwereld. Nu komt er vast snel hulp en wordt het hondje van zoë verzorgd.\n",
    "\n",
    "#### plan:\n",
    "Vertalen van lange tekst naar morsecode met gebruik van woordenboek.\n",
    "\n",
    "#### resultaat:\n",
    "Hieronder is de morse oproep te zien en wordt deze weggeschreven naar een bestand "
   ]
  },
  {
   "cell_type": "code",
   "execution_count": null,
   "id": "51b4d887",
   "metadata": {},
   "outputs": [],
   "source": [
    "SOS_extended = []\n",
    "\n",
    "for row in LongSOStxt:\n",
    "    for char in row:\n",
    "        for key, value in ExtMorse.items():\n",
    "            if char == key:\n",
    "                SOS_extended.append(value)\n",
    "     \n",
    "                \n",
    "with open('./output_extended.mc', 'w') as file:\n",
    "    for row in result:\n",
    "        file.write(row + '/')\n",
    "\n",
    "SOS_extended    "
   ]
  },
  {
   "cell_type": "markdown",
   "id": "e2c163c0",
   "metadata": {},
   "source": [
    " <div class=\"alert alert-success\" markdown=\"1\">\n",
    "\n",
    "### Noodoproep-2 van  morse terug naar tekst\n",
    "Omdat het schip nog steeds in zicht is willen we ook dit bericht naar hun kunnen versturen, maar we zijn oproep verloren en niemand weet meer wat er precies in stond! Gelukkig hebben we nog de morsecode die we zojuist hebben geschreven.\n",
    "Deze gebruiken we om samen met het woordenboek de tekst ook weer terug te kunnen vertalen naar de orginele oproep.\n"
   ]
  },
  {
   "cell_type": "code",
   "execution_count": null,
   "id": "df1f7f78",
   "metadata": {},
   "outputs": [],
   "source": [
    "toText = []\n",
    "for row in SOS_extended:\n",
    "    for key, value in ExtMorse.items():\n",
    "            if row == value:\n",
    "                toText.append(key)\n",
    "string = \"\"\n",
    "\n",
    "toText = string.join(toText)\n",
    "with open('./schipper_extended.txt','w') as f:\n",
    "        f.write(toText)\n",
    "toText"
   ]
  },
  {
   "cell_type": "markdown",
   "id": "1c9b685b",
   "metadata": {},
   "source": [
    " <div class=\"alert alert-success\" markdown=\"1\">\n",
    "\n",
    "### Nadeel\n",
    "\n",
    "We hebben nu een woordenboek gemaakt dat nieuwe tekens accepteerd en naar een morsecode omzet. Er is alleen wel een paar kritische punten op aan te merken. Morsecode is een communicatiecode dat gebaseerd is op een universeel gebruikte tekens en signalen. Dit woordenboek ondersteund nieuwe en speciale tekens maar een ander kan zonder gebruik te maken van dit specifieke woordenboek niet gemakkelijk de boodschap ontvangen.\n",
    "\n",
    "Daarnaast is de tekst veel te lang om te gebruiken voor morse, aangezien dit op karakterbasis is en niet per woord.\n",
    "Om dit te demonstreren is hieronder de lange noodoproep omgeschreven en omgezet naar audio-fragment van de morse-code. Voor hand signalering in de vuurtoren is het waarschijnlijk een onmogelijke taak deze morsecode te kunnen uitvoeren."
   ]
  },
  {
   "cell_type": "code",
   "execution_count": null,
   "id": "56b3eec5",
   "metadata": {},
   "outputs": [],
   "source": [
    "LongSOStxt = LongSOStxt.replace(\"ë\", \"E\")\n",
    "LongSOStxt = LongSOStxt.replace(\"ì\", \"I\")\n",
    "LongSOStxt = LongSOStxt.replace(\".\", \"\")\n",
    "LongSOStxt = LongSOStxt.replace(\",\", \"\")\n",
    "LongSOStxt = LongSOStxt.upper()\n",
    "LongSOStxt = LongSOStxt.rstrip(LongSOStxt[-1])\n",
    "LongSOStxt"
   ]
  },
  {
   "cell_type": "markdown",
   "id": "32503b5e",
   "metadata": {},
   "source": [
    " <div class=\"alert alert-success\" markdown=\"1\">\n",
    " \n",
    "### Audio-fragment morse noodoproep\n",
    "\n",
    "Als je het codeblok hieronder uitvoerd hoor je de morse-code van het noodbericht. \n",
    "Door de manier waarop het bericht is opgesteld duurt het ongeveer __12 minuten__, wat erg onhandig is als je gered wilt worden!"
   ]
  },
  {
   "cell_type": "code",
   "execution_count": null,
   "id": "c4f78295",
   "metadata": {},
   "outputs": [],
   "source": [
    "interpause = 0.5  # Time between sounds\n",
    "\n",
    "pygame.init()\n",
    "try:\n",
    "    for char in LongSOStxt:\n",
    "        if char == '/n' or char == ' ':\n",
    "            time.sleep(7 * interpause)\n",
    "        else:\n",
    "            print(char)\n",
    "            pygame.mixer.music.load( \"./morse_code_audio/\" + char + '_morse_code.ogg')\n",
    "            pygame.mixer.music.set_volume(0.1)\n",
    "            pygame.mixer.music.play()\n",
    "            time.sleep(3 * interpause)\n",
    "except:\n",
    "    print(\"Could not send morse code\")\n"
   ]
  },
  {
   "cell_type": "markdown",
   "id": "3bb48d36",
   "metadata": {},
   "source": [
    " <div class=\"alert alert-success\" markdown=\"1\">\n",
    "    <a id=\"conclusie\"></a>\n",
    "\n",
    "## 5. Conclusie\n",
    "\n",
    "De inspanningen waren niet voor niets geweest. Zowel de schippers als het vaste land hebben de berichten ontvangen. De kustwacht heeft speciaal een reddingsteam aangesteld om de mensen op het eiland te ondersteunen. Ook de schippers zijn meteen in actie gekomen door een reddingsboot naar het eiland te sturen met eten, drinkwater en nooddekens.\n",
    "\n",
    "Dit alles komt doordat de groep heeft samengewerkt om een noodoproep te sturen in morsecode en een in de vertaling naar gewone tekst. Dit deden ze door handig gebruik te maken van een woordenboek en de slimme ingeving op welke manier deze uit te breidden was.\n",
    "\n",
    "De tweede tekst bleek ondeduidelijk en vooral veel te lang voor de ontvangers. Voor een volgende keer zullen ze er daarom op letten zo kort en bondig mogelijke teksten te gebruiken voor de morse-code.\n"
   ]
  },
  {
   "cell_type": "markdown",
   "id": "3b1d9b67",
   "metadata": {},
   "source": [
    "<a href=\"https://github.com/Molly-creator/Morse-Code\"><img src=\"./icons8-github-24.png\"></a>"
   ]
  },
  {
   "cell_type": "code",
   "execution_count": null,
   "id": "fca79483",
   "metadata": {},
   "outputs": [],
   "source": []
  }
 ],
 "metadata": {
  "kernelspec": {
   "display_name": "Python 3",
   "language": "python",
   "name": "python3"
  },
  "language_info": {
   "codemirror_mode": {
    "name": "ipython",
    "version": 3
   },
   "file_extension": ".py",
   "mimetype": "text/x-python",
   "name": "python",
   "nbconvert_exporter": "python",
   "pygments_lexer": "ipython3",
   "version": "3.6.9"
  }
 },
 "nbformat": 4,
 "nbformat_minor": 5
}
